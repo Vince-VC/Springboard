{
 "cells": [
  {
   "cell_type": "code",
   "execution_count": 1,
   "id": "0667a796-a4c1-46ac-a33c-935ffbf9bb74",
   "metadata": {},
   "outputs": [],
   "source": [
    "#Import packages\n",
    "import numpy as np\n",
    "import pandas as pd\n",
    "import matplotlib.pyplot as plt\n",
    "plt.style.use('ggplot')\n",
    "pd.set_option('display.max_columns', 200)\n",
    "import seaborn as sns\n",
    "import os\n",
    "\n",
    "import matplotlib.dates as mdates\n",
    "import scipy.stats as stats\n",
    "\n",
    "from sklearn.model_selection import train_test_split\n",
    "from sklearn.ensemble import RandomForestClassifier\n",
    "from sklearn.model_selection import GridSearchCV\n",
    "from sklearn.metrics import classification_report, accuracy_score"
   ]
  },
  {
   "cell_type": "code",
   "execution_count": 2,
   "id": "08b7c8d2-cfc5-4f10-9013-fa5a875bf6ed",
   "metadata": {},
   "outputs": [
    {
     "data": {
      "text/html": [
       "<div>\n",
       "<style scoped>\n",
       "    .dataframe tbody tr th:only-of-type {\n",
       "        vertical-align: middle;\n",
       "    }\n",
       "\n",
       "    .dataframe tbody tr th {\n",
       "        vertical-align: top;\n",
       "    }\n",
       "\n",
       "    .dataframe thead th {\n",
       "        text-align: right;\n",
       "    }\n",
       "</style>\n",
       "<table border=\"1\" class=\"dataframe\">\n",
       "  <thead>\n",
       "    <tr style=\"text-align: right;\">\n",
       "      <th></th>\n",
       "      <th>time_stamp</th>\n",
       "      <th>user_id</th>\n",
       "      <th>visited</th>\n",
       "    </tr>\n",
       "  </thead>\n",
       "  <tbody>\n",
       "    <tr>\n",
       "      <th>0</th>\n",
       "      <td>2014-04-22 03:53:30</td>\n",
       "      <td>1</td>\n",
       "      <td>1</td>\n",
       "    </tr>\n",
       "    <tr>\n",
       "      <th>1</th>\n",
       "      <td>2013-11-15 03:45:04</td>\n",
       "      <td>2</td>\n",
       "      <td>1</td>\n",
       "    </tr>\n",
       "    <tr>\n",
       "      <th>2</th>\n",
       "      <td>2013-11-29 03:45:04</td>\n",
       "      <td>2</td>\n",
       "      <td>1</td>\n",
       "    </tr>\n",
       "    <tr>\n",
       "      <th>3</th>\n",
       "      <td>2013-12-09 03:45:04</td>\n",
       "      <td>2</td>\n",
       "      <td>1</td>\n",
       "    </tr>\n",
       "    <tr>\n",
       "      <th>4</th>\n",
       "      <td>2013-12-25 03:45:04</td>\n",
       "      <td>2</td>\n",
       "      <td>1</td>\n",
       "    </tr>\n",
       "  </tbody>\n",
       "</table>\n",
       "</div>"
      ],
      "text/plain": [
       "            time_stamp  user_id  visited\n",
       "0  2014-04-22 03:53:30        1        1\n",
       "1  2013-11-15 03:45:04        2        1\n",
       "2  2013-11-29 03:45:04        2        1\n",
       "3  2013-12-09 03:45:04        2        1\n",
       "4  2013-12-25 03:45:04        2        1"
      ]
     },
     "execution_count": 2,
     "metadata": {},
     "output_type": "execute_result"
    }
   ],
   "source": [
    "df = pd.read_csv('takehome_user_engagement.csv')\n",
    "df.head()"
   ]
  },
  {
   "cell_type": "code",
   "execution_count": 3,
   "id": "7cd1baef-2498-4c90-a2d4-422b2066e829",
   "metadata": {},
   "outputs": [
    {
     "name": "stdout",
     "output_type": "stream",
     "text": [
      "<class 'pandas.core.frame.DataFrame'>\n",
      "RangeIndex: 207917 entries, 0 to 207916\n",
      "Data columns (total 3 columns):\n",
      " #   Column      Non-Null Count   Dtype \n",
      "---  ------      --------------   ----- \n",
      " 0   time_stamp  207917 non-null  object\n",
      " 1   user_id     207917 non-null  int64 \n",
      " 2   visited     207917 non-null  int64 \n",
      "dtypes: int64(2), object(1)\n",
      "memory usage: 4.8+ MB\n"
     ]
    }
   ],
   "source": [
    "df.info()"
   ]
  },
  {
   "cell_type": "code",
   "execution_count": 4,
   "id": "96e1fa5b-000e-4cba-a91b-cc1bc7a8c615",
   "metadata": {},
   "outputs": [
    {
     "data": {
      "text/plain": [
       "8823"
      ]
     },
     "execution_count": 4,
     "metadata": {},
     "output_type": "execute_result"
    }
   ],
   "source": [
    "df['user_id'].nunique()"
   ]
  },
  {
   "cell_type": "markdown",
   "id": "d086d4d4-5596-486c-81af-5ac145852ff9",
   "metadata": {},
   "source": [
    "This shows we have 207,917 total logins from 8,823 unique users"
   ]
  },
  {
   "cell_type": "code",
   "execution_count": 5,
   "id": "3f96f98c-d9d7-4155-ab3d-620c9232df3e",
   "metadata": {},
   "outputs": [],
   "source": [
    "# convert time_stamp to datetime\n",
    "df['time_stamp'] = pd.to_datetime(df['time_stamp'], format='%Y-%m-%d %H:%M:%S')"
   ]
  },
  {
   "cell_type": "code",
   "execution_count": 6,
   "id": "b5c0ee54-748d-4e81-9661-029cfc02274a",
   "metadata": {},
   "outputs": [
    {
     "name": "stdout",
     "output_type": "stream",
     "text": [
      "<class 'pandas.core.frame.DataFrame'>\n",
      "RangeIndex: 207917 entries, 0 to 207916\n",
      "Data columns (total 3 columns):\n",
      " #   Column      Non-Null Count   Dtype         \n",
      "---  ------      --------------   -----         \n",
      " 0   time_stamp  207917 non-null  datetime64[ns]\n",
      " 1   user_id     207917 non-null  int64         \n",
      " 2   visited     207917 non-null  int64         \n",
      "dtypes: datetime64[ns](1), int64(2)\n",
      "memory usage: 4.8 MB\n"
     ]
    }
   ],
   "source": [
    "df.info()"
   ]
  },
  {
   "cell_type": "code",
   "execution_count": 7,
   "id": "4db0968f-0b7a-492f-8f4c-bbe9be82699e",
   "metadata": {},
   "outputs": [],
   "source": [
    "def check_adopted(df, time_stamp_column):\n",
    "    \"\"\"\n",
    "    Checks if users logged in on at least 3 separate days within any 7-day period.\n",
    "\n",
    "    Parameters:\n",
    "    df (pd.DataFrame): The DataFrame containing login data.\n",
    "    time_stamp_column (str): The name of the datetime column.\n",
    "\n",
    "    Returns:\n",
    "    pd.DataFrame: A DataFrame with user IDs and a flag indicating if the condition is met.\n",
    "    \"\"\"\n",
    "    global user_groups\n",
    "    # Ensure the timestamp column is in datetime format\n",
    "    df[time_stamp_column] = pd.to_datetime(df[time_stamp_column])\n",
    "\n",
    "    # Extract the date part of the timestamps\n",
    "    df['login_date'] = df[time_stamp_column].dt.date\n",
    "\n",
    "    # Group by user ID and aggregate login dates\n",
    "    user_groups = df.groupby('user_id')['login_date'].apply(list).reset_index()\n",
    "\n",
    "    # Function to check the condition for a single user's login dates\n",
    "    def has_three_logins_in_seven_days(login_dates):\n",
    "        sorted_dates = sorted(set(login_dates))  # Remove duplicates and sort dates\n",
    "        for i in range(len(sorted_dates) - 2):\n",
    "            # Check if a 7-day period includes at least 3 separate days\n",
    "            if (sorted_dates[i + 2] - sorted_dates[i]).days <= 7:\n",
    "                return True\n",
    "        return False\n",
    "\n",
    "    # Apply the check to each user's login dates\n",
    "    user_groups['adopted'] = user_groups['login_date'].apply(has_three_logins_in_seven_days)\n",
    "\n",
    "    return user_groups[['user_id', 'adopted']]"
   ]
  },
  {
   "cell_type": "code",
   "execution_count": 8,
   "id": "647051d6-a56f-4a0f-b545-e8173b1cb21e",
   "metadata": {},
   "outputs": [
    {
     "data": {
      "text/html": [
       "<div>\n",
       "<style scoped>\n",
       "    .dataframe tbody tr th:only-of-type {\n",
       "        vertical-align: middle;\n",
       "    }\n",
       "\n",
       "    .dataframe tbody tr th {\n",
       "        vertical-align: top;\n",
       "    }\n",
       "\n",
       "    .dataframe thead th {\n",
       "        text-align: right;\n",
       "    }\n",
       "</style>\n",
       "<table border=\"1\" class=\"dataframe\">\n",
       "  <thead>\n",
       "    <tr style=\"text-align: right;\">\n",
       "      <th></th>\n",
       "      <th>user_id</th>\n",
       "      <th>adopted</th>\n",
       "    </tr>\n",
       "  </thead>\n",
       "  <tbody>\n",
       "    <tr>\n",
       "      <th>0</th>\n",
       "      <td>1</td>\n",
       "      <td>False</td>\n",
       "    </tr>\n",
       "    <tr>\n",
       "      <th>1</th>\n",
       "      <td>2</td>\n",
       "      <td>True</td>\n",
       "    </tr>\n",
       "    <tr>\n",
       "      <th>2</th>\n",
       "      <td>3</td>\n",
       "      <td>False</td>\n",
       "    </tr>\n",
       "    <tr>\n",
       "      <th>3</th>\n",
       "      <td>4</td>\n",
       "      <td>False</td>\n",
       "    </tr>\n",
       "    <tr>\n",
       "      <th>4</th>\n",
       "      <td>5</td>\n",
       "      <td>False</td>\n",
       "    </tr>\n",
       "    <tr>\n",
       "      <th>...</th>\n",
       "      <td>...</td>\n",
       "      <td>...</td>\n",
       "    </tr>\n",
       "    <tr>\n",
       "      <th>8818</th>\n",
       "      <td>11996</td>\n",
       "      <td>False</td>\n",
       "    </tr>\n",
       "    <tr>\n",
       "      <th>8819</th>\n",
       "      <td>11997</td>\n",
       "      <td>False</td>\n",
       "    </tr>\n",
       "    <tr>\n",
       "      <th>8820</th>\n",
       "      <td>11998</td>\n",
       "      <td>False</td>\n",
       "    </tr>\n",
       "    <tr>\n",
       "      <th>8821</th>\n",
       "      <td>11999</td>\n",
       "      <td>False</td>\n",
       "    </tr>\n",
       "    <tr>\n",
       "      <th>8822</th>\n",
       "      <td>12000</td>\n",
       "      <td>False</td>\n",
       "    </tr>\n",
       "  </tbody>\n",
       "</table>\n",
       "<p>8823 rows × 2 columns</p>\n",
       "</div>"
      ],
      "text/plain": [
       "      user_id  adopted\n",
       "0           1    False\n",
       "1           2     True\n",
       "2           3    False\n",
       "3           4    False\n",
       "4           5    False\n",
       "...       ...      ...\n",
       "8818    11996    False\n",
       "8819    11997    False\n",
       "8820    11998    False\n",
       "8821    11999    False\n",
       "8822    12000    False\n",
       "\n",
       "[8823 rows x 2 columns]"
      ]
     },
     "execution_count": 8,
     "metadata": {},
     "output_type": "execute_result"
    }
   ],
   "source": [
    "check_adopted(df,'time_stamp')"
   ]
  },
  {
   "cell_type": "code",
   "execution_count": 9,
   "id": "cfe170b5-0565-4e92-810f-4d16b9a406d6",
   "metadata": {},
   "outputs": [
    {
     "name": "stdout",
     "output_type": "stream",
     "text": [
      "Number of users with 3 logins in a 7-day period: 1656\n"
     ]
    }
   ],
   "source": [
    "# Count how many users have 'three_days_in_seven' as True\n",
    "count = user_groups['adopted'].sum()\n",
    "\n",
    "print(f\"Number of users with 3 logins in a 7-day period: {count}\")"
   ]
  },
  {
   "cell_type": "code",
   "execution_count": 10,
   "id": "83befa99-32b9-4fee-b4f1-b429adae0361",
   "metadata": {},
   "outputs": [
    {
     "data": {
      "text/html": [
       "<div>\n",
       "<style scoped>\n",
       "    .dataframe tbody tr th:only-of-type {\n",
       "        vertical-align: middle;\n",
       "    }\n",
       "\n",
       "    .dataframe tbody tr th {\n",
       "        vertical-align: top;\n",
       "    }\n",
       "\n",
       "    .dataframe thead th {\n",
       "        text-align: right;\n",
       "    }\n",
       "</style>\n",
       "<table border=\"1\" class=\"dataframe\">\n",
       "  <thead>\n",
       "    <tr style=\"text-align: right;\">\n",
       "      <th></th>\n",
       "      <th>user_id</th>\n",
       "      <th>login_date</th>\n",
       "      <th>adopted</th>\n",
       "    </tr>\n",
       "  </thead>\n",
       "  <tbody>\n",
       "    <tr>\n",
       "      <th>0</th>\n",
       "      <td>1</td>\n",
       "      <td>[2014-04-22]</td>\n",
       "      <td>False</td>\n",
       "    </tr>\n",
       "    <tr>\n",
       "      <th>1</th>\n",
       "      <td>2</td>\n",
       "      <td>[2013-11-15, 2013-11-29, 2013-12-09, 2013-12-2...</td>\n",
       "      <td>True</td>\n",
       "    </tr>\n",
       "    <tr>\n",
       "      <th>2</th>\n",
       "      <td>3</td>\n",
       "      <td>[2013-03-19]</td>\n",
       "      <td>False</td>\n",
       "    </tr>\n",
       "    <tr>\n",
       "      <th>3</th>\n",
       "      <td>4</td>\n",
       "      <td>[2013-05-22]</td>\n",
       "      <td>False</td>\n",
       "    </tr>\n",
       "    <tr>\n",
       "      <th>4</th>\n",
       "      <td>5</td>\n",
       "      <td>[2013-01-22]</td>\n",
       "      <td>False</td>\n",
       "    </tr>\n",
       "  </tbody>\n",
       "</table>\n",
       "</div>"
      ],
      "text/plain": [
       "   user_id                                         login_date  adopted\n",
       "0        1                                       [2014-04-22]    False\n",
       "1        2  [2013-11-15, 2013-11-29, 2013-12-09, 2013-12-2...     True\n",
       "2        3                                       [2013-03-19]    False\n",
       "3        4                                       [2013-05-22]    False\n",
       "4        5                                       [2013-01-22]    False"
      ]
     },
     "execution_count": 10,
     "metadata": {},
     "output_type": "execute_result"
    }
   ],
   "source": [
    "user_groups.head()"
   ]
  },
  {
   "cell_type": "code",
   "execution_count": 11,
   "id": "464c0e8d-4b1a-452a-88c7-7db199c42d2d",
   "metadata": {},
   "outputs": [
    {
     "data": {
      "text/html": [
       "<div>\n",
       "<style scoped>\n",
       "    .dataframe tbody tr th:only-of-type {\n",
       "        vertical-align: middle;\n",
       "    }\n",
       "\n",
       "    .dataframe tbody tr th {\n",
       "        vertical-align: top;\n",
       "    }\n",
       "\n",
       "    .dataframe thead th {\n",
       "        text-align: right;\n",
       "    }\n",
       "</style>\n",
       "<table border=\"1\" class=\"dataframe\">\n",
       "  <thead>\n",
       "    <tr style=\"text-align: right;\">\n",
       "      <th></th>\n",
       "      <th>object_id</th>\n",
       "      <th>creation_time</th>\n",
       "      <th>name</th>\n",
       "      <th>email</th>\n",
       "      <th>creation_source</th>\n",
       "      <th>last_session_creation_time</th>\n",
       "      <th>opted_in_to_mailing_list</th>\n",
       "      <th>enabled_for_marketing_drip</th>\n",
       "      <th>org_id</th>\n",
       "      <th>invited_by_user_id</th>\n",
       "    </tr>\n",
       "  </thead>\n",
       "  <tbody>\n",
       "    <tr>\n",
       "      <th>0</th>\n",
       "      <td>1</td>\n",
       "      <td>2014-04-22 03:53:30</td>\n",
       "      <td>Clausen August</td>\n",
       "      <td>AugustCClausen@yahoo.com</td>\n",
       "      <td>GUEST_INVITE</td>\n",
       "      <td>1.398139e+09</td>\n",
       "      <td>1</td>\n",
       "      <td>0</td>\n",
       "      <td>11</td>\n",
       "      <td>10803.0</td>\n",
       "    </tr>\n",
       "    <tr>\n",
       "      <th>1</th>\n",
       "      <td>2</td>\n",
       "      <td>2013-11-15 03:45:04</td>\n",
       "      <td>Poole Matthew</td>\n",
       "      <td>MatthewPoole@gustr.com</td>\n",
       "      <td>ORG_INVITE</td>\n",
       "      <td>1.396238e+09</td>\n",
       "      <td>0</td>\n",
       "      <td>0</td>\n",
       "      <td>1</td>\n",
       "      <td>316.0</td>\n",
       "    </tr>\n",
       "    <tr>\n",
       "      <th>2</th>\n",
       "      <td>3</td>\n",
       "      <td>2013-03-19 23:14:52</td>\n",
       "      <td>Bottrill Mitchell</td>\n",
       "      <td>MitchellBottrill@gustr.com</td>\n",
       "      <td>ORG_INVITE</td>\n",
       "      <td>1.363735e+09</td>\n",
       "      <td>0</td>\n",
       "      <td>0</td>\n",
       "      <td>94</td>\n",
       "      <td>1525.0</td>\n",
       "    </tr>\n",
       "    <tr>\n",
       "      <th>3</th>\n",
       "      <td>4</td>\n",
       "      <td>2013-05-21 08:09:28</td>\n",
       "      <td>Clausen Nicklas</td>\n",
       "      <td>NicklasSClausen@yahoo.com</td>\n",
       "      <td>GUEST_INVITE</td>\n",
       "      <td>1.369210e+09</td>\n",
       "      <td>0</td>\n",
       "      <td>0</td>\n",
       "      <td>1</td>\n",
       "      <td>5151.0</td>\n",
       "    </tr>\n",
       "    <tr>\n",
       "      <th>4</th>\n",
       "      <td>5</td>\n",
       "      <td>2013-01-17 10:14:20</td>\n",
       "      <td>Raw Grace</td>\n",
       "      <td>GraceRaw@yahoo.com</td>\n",
       "      <td>GUEST_INVITE</td>\n",
       "      <td>1.358850e+09</td>\n",
       "      <td>0</td>\n",
       "      <td>0</td>\n",
       "      <td>193</td>\n",
       "      <td>5240.0</td>\n",
       "    </tr>\n",
       "  </tbody>\n",
       "</table>\n",
       "</div>"
      ],
      "text/plain": [
       "   object_id        creation_time               name  \\\n",
       "0          1  2014-04-22 03:53:30     Clausen August   \n",
       "1          2  2013-11-15 03:45:04      Poole Matthew   \n",
       "2          3  2013-03-19 23:14:52  Bottrill Mitchell   \n",
       "3          4  2013-05-21 08:09:28    Clausen Nicklas   \n",
       "4          5  2013-01-17 10:14:20          Raw Grace   \n",
       "\n",
       "                        email creation_source  last_session_creation_time  \\\n",
       "0    AugustCClausen@yahoo.com    GUEST_INVITE                1.398139e+09   \n",
       "1      MatthewPoole@gustr.com      ORG_INVITE                1.396238e+09   \n",
       "2  MitchellBottrill@gustr.com      ORG_INVITE                1.363735e+09   \n",
       "3   NicklasSClausen@yahoo.com    GUEST_INVITE                1.369210e+09   \n",
       "4          GraceRaw@yahoo.com    GUEST_INVITE                1.358850e+09   \n",
       "\n",
       "   opted_in_to_mailing_list  enabled_for_marketing_drip  org_id  \\\n",
       "0                         1                           0      11   \n",
       "1                         0                           0       1   \n",
       "2                         0                           0      94   \n",
       "3                         0                           0       1   \n",
       "4                         0                           0     193   \n",
       "\n",
       "   invited_by_user_id  \n",
       "0             10803.0  \n",
       "1               316.0  \n",
       "2              1525.0  \n",
       "3              5151.0  \n",
       "4              5240.0  "
      ]
     },
     "execution_count": 11,
     "metadata": {},
     "output_type": "execute_result"
    }
   ],
   "source": [
    "try:\n",
    "    # Attempt to read the file with default utf-8 encoding\n",
    "    df_users = pd.read_csv('takehome_users.csv')\n",
    "except UnicodeDecodeError:\n",
    "    # If utf-8 fails, try an alternative encoding\n",
    "    df_users = pd.read_csv('takehome_users.csv', encoding='latin1')\n",
    "\n",
    "df_users.head()"
   ]
  },
  {
   "cell_type": "code",
   "execution_count": 12,
   "id": "c682a578-6c98-4671-8714-cfbabc4f22c8",
   "metadata": {},
   "outputs": [],
   "source": [
    "df_users = df_users.drop(columns=['name', 'email'])"
   ]
  },
  {
   "cell_type": "code",
   "execution_count": 13,
   "id": "59ea3bce-9224-46a5-bf3a-9958b6f2ea60",
   "metadata": {},
   "outputs": [
    {
     "name": "stdout",
     "output_type": "stream",
     "text": [
      "<class 'pandas.core.frame.DataFrame'>\n",
      "RangeIndex: 12000 entries, 0 to 11999\n",
      "Data columns (total 8 columns):\n",
      " #   Column                      Non-Null Count  Dtype  \n",
      "---  ------                      --------------  -----  \n",
      " 0   object_id                   12000 non-null  int64  \n",
      " 1   creation_time               12000 non-null  object \n",
      " 2   creation_source             12000 non-null  object \n",
      " 3   last_session_creation_time  8823 non-null   float64\n",
      " 4   opted_in_to_mailing_list    12000 non-null  int64  \n",
      " 5   enabled_for_marketing_drip  12000 non-null  int64  \n",
      " 6   org_id                      12000 non-null  int64  \n",
      " 7   invited_by_user_id          6417 non-null   float64\n",
      "dtypes: float64(2), int64(4), object(2)\n",
      "memory usage: 750.1+ KB\n"
     ]
    }
   ],
   "source": [
    "df_users.info()"
   ]
  },
  {
   "cell_type": "code",
   "execution_count": 14,
   "id": "eb669f85-135f-44d6-91b8-4bff5ab1b7f5",
   "metadata": {},
   "outputs": [
    {
     "data": {
      "text/plain": [
       "object_id                     12000\n",
       "creation_time                 11996\n",
       "creation_source                   5\n",
       "last_session_creation_time     8821\n",
       "opted_in_to_mailing_list          2\n",
       "enabled_for_marketing_drip        2\n",
       "org_id                          417\n",
       "invited_by_user_id             2564\n",
       "dtype: int64"
      ]
     },
     "execution_count": 14,
     "metadata": {},
     "output_type": "execute_result"
    }
   ],
   "source": [
    "df_users.nunique()"
   ]
  },
  {
   "cell_type": "code",
   "execution_count": 15,
   "id": "3e889355-9803-40cc-ad9b-6f05c944d573",
   "metadata": {},
   "outputs": [],
   "source": [
    "df_users = df_users.drop(columns=['org_id', 'invited_by_user_id'])"
   ]
  },
  {
   "cell_type": "code",
   "execution_count": 16,
   "id": "d11fff38-7bd7-42a8-947b-2edd22f1b8c3",
   "metadata": {},
   "outputs": [
    {
     "data": {
      "text/html": [
       "<div>\n",
       "<style scoped>\n",
       "    .dataframe tbody tr th:only-of-type {\n",
       "        vertical-align: middle;\n",
       "    }\n",
       "\n",
       "    .dataframe tbody tr th {\n",
       "        vertical-align: top;\n",
       "    }\n",
       "\n",
       "    .dataframe thead th {\n",
       "        text-align: right;\n",
       "    }\n",
       "</style>\n",
       "<table border=\"1\" class=\"dataframe\">\n",
       "  <thead>\n",
       "    <tr style=\"text-align: right;\">\n",
       "      <th></th>\n",
       "      <th>object_id</th>\n",
       "      <th>creation_time</th>\n",
       "      <th>creation_source</th>\n",
       "      <th>last_session_creation_time</th>\n",
       "      <th>opted_in_to_mailing_list</th>\n",
       "      <th>enabled_for_marketing_drip</th>\n",
       "    </tr>\n",
       "  </thead>\n",
       "  <tbody>\n",
       "    <tr>\n",
       "      <th>0</th>\n",
       "      <td>1</td>\n",
       "      <td>2014-04-22 03:53:30</td>\n",
       "      <td>GUEST_INVITE</td>\n",
       "      <td>2014-04-22 03:53:30</td>\n",
       "      <td>1</td>\n",
       "      <td>0</td>\n",
       "    </tr>\n",
       "    <tr>\n",
       "      <th>1</th>\n",
       "      <td>2</td>\n",
       "      <td>2013-11-15 03:45:04</td>\n",
       "      <td>ORG_INVITE</td>\n",
       "      <td>2014-03-31 03:45:04</td>\n",
       "      <td>0</td>\n",
       "      <td>0</td>\n",
       "    </tr>\n",
       "    <tr>\n",
       "      <th>2</th>\n",
       "      <td>3</td>\n",
       "      <td>2013-03-19 23:14:52</td>\n",
       "      <td>ORG_INVITE</td>\n",
       "      <td>2013-03-19 23:14:52</td>\n",
       "      <td>0</td>\n",
       "      <td>0</td>\n",
       "    </tr>\n",
       "    <tr>\n",
       "      <th>3</th>\n",
       "      <td>4</td>\n",
       "      <td>2013-05-21 08:09:28</td>\n",
       "      <td>GUEST_INVITE</td>\n",
       "      <td>2013-05-22 08:09:28</td>\n",
       "      <td>0</td>\n",
       "      <td>0</td>\n",
       "    </tr>\n",
       "    <tr>\n",
       "      <th>4</th>\n",
       "      <td>5</td>\n",
       "      <td>2013-01-17 10:14:20</td>\n",
       "      <td>GUEST_INVITE</td>\n",
       "      <td>2013-01-22 10:14:20</td>\n",
       "      <td>0</td>\n",
       "      <td>0</td>\n",
       "    </tr>\n",
       "  </tbody>\n",
       "</table>\n",
       "</div>"
      ],
      "text/plain": [
       "   object_id       creation_time creation_source last_session_creation_time  \\\n",
       "0          1 2014-04-22 03:53:30    GUEST_INVITE        2014-04-22 03:53:30   \n",
       "1          2 2013-11-15 03:45:04      ORG_INVITE        2014-03-31 03:45:04   \n",
       "2          3 2013-03-19 23:14:52      ORG_INVITE        2013-03-19 23:14:52   \n",
       "3          4 2013-05-21 08:09:28    GUEST_INVITE        2013-05-22 08:09:28   \n",
       "4          5 2013-01-17 10:14:20    GUEST_INVITE        2013-01-22 10:14:20   \n",
       "\n",
       "   opted_in_to_mailing_list  enabled_for_marketing_drip  \n",
       "0                         1                           0  \n",
       "1                         0                           0  \n",
       "2                         0                           0  \n",
       "3                         0                           0  \n",
       "4                         0                           0  "
      ]
     },
     "execution_count": 16,
     "metadata": {},
     "output_type": "execute_result"
    }
   ],
   "source": [
    "df_users['creation_time'] = pd.to_datetime(df_users['creation_time'], format='%Y-%m-%d %H:%M:%S')\n",
    "df_users['last_session_creation_time'] = pd.to_datetime(df_users['last_session_creation_time'], unit='s')\n",
    "df_users.head()"
   ]
  },
  {
   "cell_type": "code",
   "execution_count": 17,
   "id": "b6dee06b-5332-44c3-8646-5f67f9650fb3",
   "metadata": {},
   "outputs": [
    {
     "data": {
      "text/html": [
       "<div>\n",
       "<style scoped>\n",
       "    .dataframe tbody tr th:only-of-type {\n",
       "        vertical-align: middle;\n",
       "    }\n",
       "\n",
       "    .dataframe tbody tr th {\n",
       "        vertical-align: top;\n",
       "    }\n",
       "\n",
       "    .dataframe thead th {\n",
       "        text-align: right;\n",
       "    }\n",
       "</style>\n",
       "<table border=\"1\" class=\"dataframe\">\n",
       "  <thead>\n",
       "    <tr style=\"text-align: right;\">\n",
       "      <th></th>\n",
       "      <th>object_id</th>\n",
       "      <th>creation_time</th>\n",
       "      <th>creation_source</th>\n",
       "      <th>last_session_creation_time</th>\n",
       "      <th>opted_in_to_mailing_list</th>\n",
       "      <th>enabled_for_marketing_drip</th>\n",
       "      <th>account_age_in_days</th>\n",
       "    </tr>\n",
       "  </thead>\n",
       "  <tbody>\n",
       "    <tr>\n",
       "      <th>0</th>\n",
       "      <td>1</td>\n",
       "      <td>2014-04-22 03:53:30</td>\n",
       "      <td>GUEST_INVITE</td>\n",
       "      <td>2014-04-22 03:53:30</td>\n",
       "      <td>1</td>\n",
       "      <td>0</td>\n",
       "      <td>45</td>\n",
       "    </tr>\n",
       "    <tr>\n",
       "      <th>1</th>\n",
       "      <td>2</td>\n",
       "      <td>2013-11-15 03:45:04</td>\n",
       "      <td>ORG_INVITE</td>\n",
       "      <td>2014-03-31 03:45:04</td>\n",
       "      <td>0</td>\n",
       "      <td>0</td>\n",
       "      <td>203</td>\n",
       "    </tr>\n",
       "    <tr>\n",
       "      <th>2</th>\n",
       "      <td>3</td>\n",
       "      <td>2013-03-19 23:14:52</td>\n",
       "      <td>ORG_INVITE</td>\n",
       "      <td>2013-03-19 23:14:52</td>\n",
       "      <td>0</td>\n",
       "      <td>0</td>\n",
       "      <td>443</td>\n",
       "    </tr>\n",
       "    <tr>\n",
       "      <th>3</th>\n",
       "      <td>4</td>\n",
       "      <td>2013-05-21 08:09:28</td>\n",
       "      <td>GUEST_INVITE</td>\n",
       "      <td>2013-05-22 08:09:28</td>\n",
       "      <td>0</td>\n",
       "      <td>0</td>\n",
       "      <td>381</td>\n",
       "    </tr>\n",
       "    <tr>\n",
       "      <th>4</th>\n",
       "      <td>5</td>\n",
       "      <td>2013-01-17 10:14:20</td>\n",
       "      <td>GUEST_INVITE</td>\n",
       "      <td>2013-01-22 10:14:20</td>\n",
       "      <td>0</td>\n",
       "      <td>0</td>\n",
       "      <td>505</td>\n",
       "    </tr>\n",
       "  </tbody>\n",
       "</table>\n",
       "</div>"
      ],
      "text/plain": [
       "   object_id       creation_time creation_source last_session_creation_time  \\\n",
       "0          1 2014-04-22 03:53:30    GUEST_INVITE        2014-04-22 03:53:30   \n",
       "1          2 2013-11-15 03:45:04      ORG_INVITE        2014-03-31 03:45:04   \n",
       "2          3 2013-03-19 23:14:52      ORG_INVITE        2013-03-19 23:14:52   \n",
       "3          4 2013-05-21 08:09:28    GUEST_INVITE        2013-05-22 08:09:28   \n",
       "4          5 2013-01-17 10:14:20    GUEST_INVITE        2013-01-22 10:14:20   \n",
       "\n",
       "   opted_in_to_mailing_list  enabled_for_marketing_drip  account_age_in_days  \n",
       "0                         1                           0                   45  \n",
       "1                         0                           0                  203  \n",
       "2                         0                           0                  443  \n",
       "3                         0                           0                  381  \n",
       "4                         0                           0                  505  "
      ]
     },
     "execution_count": 17,
     "metadata": {},
     "output_type": "execute_result"
    }
   ],
   "source": [
    "# add account age feature\n",
    "latest_activity_date = max(df_users['last_session_creation_time'])\n",
    "df_users['account_age_in_days'] = latest_activity_date - df_users['creation_time']\n",
    "df_users['account_age_in_days'] = df_users['account_age_in_days'].dt.days\n",
    "df_users.head()"
   ]
  },
  {
   "cell_type": "code",
   "execution_count": 18,
   "id": "2a51baa4-21cc-4b51-9bcc-2318c108eea2",
   "metadata": {},
   "outputs": [],
   "source": [
    "# add last active feature\n",
    "latest_activity_date = max(df_users['last_session_creation_time'])\n",
    "df_users['days_since_last_active'] = latest_activity_date - df_users['last_session_creation_time']\n",
    "df_users['days_since_last_active'] = df_users['days_since_last_active'].dt.days"
   ]
  },
  {
   "cell_type": "code",
   "execution_count": 19,
   "id": "3637b507-cd02-463e-a3bd-f11cd5b9147b",
   "metadata": {},
   "outputs": [],
   "source": [
    "merged_df = pd.merge(user_groups, df_users, left_on='user_id', right_on='object_id')"
   ]
  },
  {
   "cell_type": "code",
   "execution_count": 20,
   "id": "f1e7a4a1-bb00-4384-9fad-e9ed75d60a09",
   "metadata": {},
   "outputs": [
    {
     "data": {
      "text/html": [
       "<div>\n",
       "<style scoped>\n",
       "    .dataframe tbody tr th:only-of-type {\n",
       "        vertical-align: middle;\n",
       "    }\n",
       "\n",
       "    .dataframe tbody tr th {\n",
       "        vertical-align: top;\n",
       "    }\n",
       "\n",
       "    .dataframe thead th {\n",
       "        text-align: right;\n",
       "    }\n",
       "</style>\n",
       "<table border=\"1\" class=\"dataframe\">\n",
       "  <thead>\n",
       "    <tr style=\"text-align: right;\">\n",
       "      <th></th>\n",
       "      <th>user_id</th>\n",
       "      <th>login_date</th>\n",
       "      <th>adopted</th>\n",
       "      <th>object_id</th>\n",
       "      <th>creation_time</th>\n",
       "      <th>creation_source</th>\n",
       "      <th>last_session_creation_time</th>\n",
       "      <th>opted_in_to_mailing_list</th>\n",
       "      <th>enabled_for_marketing_drip</th>\n",
       "      <th>account_age_in_days</th>\n",
       "      <th>days_since_last_active</th>\n",
       "    </tr>\n",
       "  </thead>\n",
       "  <tbody>\n",
       "    <tr>\n",
       "      <th>0</th>\n",
       "      <td>1</td>\n",
       "      <td>[2014-04-22]</td>\n",
       "      <td>False</td>\n",
       "      <td>1</td>\n",
       "      <td>2014-04-22 03:53:30</td>\n",
       "      <td>GUEST_INVITE</td>\n",
       "      <td>2014-04-22 03:53:30</td>\n",
       "      <td>1</td>\n",
       "      <td>0</td>\n",
       "      <td>45</td>\n",
       "      <td>45.0</td>\n",
       "    </tr>\n",
       "    <tr>\n",
       "      <th>1</th>\n",
       "      <td>2</td>\n",
       "      <td>[2013-11-15, 2013-11-29, 2013-12-09, 2013-12-2...</td>\n",
       "      <td>True</td>\n",
       "      <td>2</td>\n",
       "      <td>2013-11-15 03:45:04</td>\n",
       "      <td>ORG_INVITE</td>\n",
       "      <td>2014-03-31 03:45:04</td>\n",
       "      <td>0</td>\n",
       "      <td>0</td>\n",
       "      <td>203</td>\n",
       "      <td>67.0</td>\n",
       "    </tr>\n",
       "    <tr>\n",
       "      <th>2</th>\n",
       "      <td>3</td>\n",
       "      <td>[2013-03-19]</td>\n",
       "      <td>False</td>\n",
       "      <td>3</td>\n",
       "      <td>2013-03-19 23:14:52</td>\n",
       "      <td>ORG_INVITE</td>\n",
       "      <td>2013-03-19 23:14:52</td>\n",
       "      <td>0</td>\n",
       "      <td>0</td>\n",
       "      <td>443</td>\n",
       "      <td>443.0</td>\n",
       "    </tr>\n",
       "    <tr>\n",
       "      <th>3</th>\n",
       "      <td>4</td>\n",
       "      <td>[2013-05-22]</td>\n",
       "      <td>False</td>\n",
       "      <td>4</td>\n",
       "      <td>2013-05-21 08:09:28</td>\n",
       "      <td>GUEST_INVITE</td>\n",
       "      <td>2013-05-22 08:09:28</td>\n",
       "      <td>0</td>\n",
       "      <td>0</td>\n",
       "      <td>381</td>\n",
       "      <td>380.0</td>\n",
       "    </tr>\n",
       "    <tr>\n",
       "      <th>4</th>\n",
       "      <td>5</td>\n",
       "      <td>[2013-01-22]</td>\n",
       "      <td>False</td>\n",
       "      <td>5</td>\n",
       "      <td>2013-01-17 10:14:20</td>\n",
       "      <td>GUEST_INVITE</td>\n",
       "      <td>2013-01-22 10:14:20</td>\n",
       "      <td>0</td>\n",
       "      <td>0</td>\n",
       "      <td>505</td>\n",
       "      <td>500.0</td>\n",
       "    </tr>\n",
       "  </tbody>\n",
       "</table>\n",
       "</div>"
      ],
      "text/plain": [
       "   user_id                                         login_date  adopted  \\\n",
       "0        1                                       [2014-04-22]    False   \n",
       "1        2  [2013-11-15, 2013-11-29, 2013-12-09, 2013-12-2...     True   \n",
       "2        3                                       [2013-03-19]    False   \n",
       "3        4                                       [2013-05-22]    False   \n",
       "4        5                                       [2013-01-22]    False   \n",
       "\n",
       "   object_id       creation_time creation_source last_session_creation_time  \\\n",
       "0          1 2014-04-22 03:53:30    GUEST_INVITE        2014-04-22 03:53:30   \n",
       "1          2 2013-11-15 03:45:04      ORG_INVITE        2014-03-31 03:45:04   \n",
       "2          3 2013-03-19 23:14:52      ORG_INVITE        2013-03-19 23:14:52   \n",
       "3          4 2013-05-21 08:09:28    GUEST_INVITE        2013-05-22 08:09:28   \n",
       "4          5 2013-01-17 10:14:20    GUEST_INVITE        2013-01-22 10:14:20   \n",
       "\n",
       "   opted_in_to_mailing_list  enabled_for_marketing_drip  account_age_in_days  \\\n",
       "0                         1                           0                   45   \n",
       "1                         0                           0                  203   \n",
       "2                         0                           0                  443   \n",
       "3                         0                           0                  381   \n",
       "4                         0                           0                  505   \n",
       "\n",
       "   days_since_last_active  \n",
       "0                    45.0  \n",
       "1                    67.0  \n",
       "2                   443.0  \n",
       "3                   380.0  \n",
       "4                   500.0  "
      ]
     },
     "execution_count": 20,
     "metadata": {},
     "output_type": "execute_result"
    }
   ],
   "source": [
    "merged_df.head()"
   ]
  },
  {
   "cell_type": "code",
   "execution_count": 21,
   "id": "228c3562-a962-4631-9556-65361443d0a9",
   "metadata": {},
   "outputs": [],
   "source": [
    "merged_df = merged_df.drop(columns=['login_date', 'object_id'])"
   ]
  },
  {
   "cell_type": "code",
   "execution_count": 22,
   "id": "075c28a0-6477-4901-82d1-4d4540fa8d95",
   "metadata": {},
   "outputs": [
    {
     "name": "stdout",
     "output_type": "stream",
     "text": [
      "<class 'pandas.core.frame.DataFrame'>\n",
      "RangeIndex: 8823 entries, 0 to 8822\n",
      "Data columns (total 9 columns):\n",
      " #   Column                      Non-Null Count  Dtype         \n",
      "---  ------                      --------------  -----         \n",
      " 0   user_id                     8823 non-null   int64         \n",
      " 1   adopted                     8823 non-null   bool          \n",
      " 2   creation_time               8823 non-null   datetime64[ns]\n",
      " 3   creation_source             8823 non-null   object        \n",
      " 4   last_session_creation_time  8823 non-null   datetime64[ns]\n",
      " 5   opted_in_to_mailing_list    8823 non-null   int64         \n",
      " 6   enabled_for_marketing_drip  8823 non-null   int64         \n",
      " 7   account_age_in_days         8823 non-null   int64         \n",
      " 8   days_since_last_active      8823 non-null   float64       \n",
      "dtypes: bool(1), datetime64[ns](2), float64(1), int64(4), object(1)\n",
      "memory usage: 560.2+ KB\n"
     ]
    }
   ],
   "source": [
    "merged_df.info()"
   ]
  },
  {
   "cell_type": "code",
   "execution_count": 23,
   "id": "b825e88c-77ea-48e5-a636-2ffdd45024d6",
   "metadata": {},
   "outputs": [
    {
     "data": {
      "image/png": "[encoded data removed]",
      "text/plain": [
       "<Figure size 640x480 with 1 Axes>"
      ]
     },
     "metadata": {},
     "output_type": "display_data"
    }
   ],
   "source": [
    "mail_count = sns.countplot(x='opted_in_to_mailing_list', data=merged_df, hue='adopted', palette='viridis')"
   ]
  },
  {
   "cell_type": "code",
   "execution_count": 24,
   "id": "d19e1259-9f91-44d8-8503-1341f1b07146",
   "metadata": {},
   "outputs": [
    {
     "data": {
      "image/png": "[encoded data removed]",
      "text/plain": [
       "<Figure size 640x480 with 1 Axes>"
      ]
     },
     "metadata": {},
     "output_type": "display_data"
    }
   ],
   "source": [
    "source_count = sns.countplot(x='creation_source', data=merged_df, hue='adopted', palette='viridis')\n",
    "source_count = plt.xticks(rotation=90)"
   ]
  },
  {
   "cell_type": "code",
   "execution_count": 25,
   "id": "f45cc6c4-f7e9-41c8-851f-50f239a8f173",
   "metadata": {},
   "outputs": [
    {
     "data": {
      "text/plain": [
       "creation_source\n",
       "GUEST_INVITE          0.232368\n",
       "ORG_INVITE            0.180050\n",
       "PERSONAL_PROJECTS     0.225131\n",
       "SIGNUP                0.159115\n",
       "SIGNUP_GOOGLE_AUTH    0.172563\n",
       "Name: adopted, dtype: float64"
      ]
     },
     "execution_count": 25,
     "metadata": {},
     "output_type": "execute_result"
    }
   ],
   "source": [
    "merged_df.groupby('creation_source')['adopted'].apply(lambda x: sum(x)/len(x))"
   ]
  },
  {
   "cell_type": "markdown",
   "id": "b835c645-3081-4f1c-86d8-3a7c3c8f3de4",
   "metadata": {},
   "source": [
    "Guest invite and personal projects have the highest adoption rates"
   ]
  },
  {
   "cell_type": "code",
   "execution_count": 26,
   "id": "25689801-8610-4f30-bc06-1f1f5bfd102d",
   "metadata": {},
   "outputs": [
    {
     "data": {
      "image/png": "[encoded data removed]",
      "text/plain": [
       "<Figure size 640x480 with 1 Axes>"
      ]
     },
     "metadata": {},
     "output_type": "display_data"
    }
   ],
   "source": [
    "age_hist = sns.histplot(merged_df, x='account_age_in_days', hue='adopted', multiple=\"stack\", bins=30, kde=False, palette=\"coolwarm\")\n",
    "age_hist = plt.xlabel('Account Age (Days)')\n",
    "age_hist = plt.ylabel('No. of Users')\n",
    "age_hist = plt.title('Histogram of Account Age by Adoption Status')"
   ]
  },
  {
   "cell_type": "markdown",
   "id": "5bc107e7-4b2d-4fea-b137-c30b411ccabb",
   "metadata": {},
   "source": [
    "Newer accounts have a far lower adoption rate than older accounts"
   ]
  },
  {
   "cell_type": "code",
   "execution_count": 27,
   "id": "315a66ec-1c80-455f-9825-fbbeade99234",
   "metadata": {},
   "outputs": [
    {
     "data": {
      "image/png": "[encoded data removed]",
      "text/plain": [
       "<Figure size 640x480 with 1 Axes>"
      ]
     },
     "metadata": {},
     "output_type": "display_data"
    }
   ],
   "source": [
    "sns.histplot(merged_df, x='days_since_last_active', hue='adopted', multiple=\"stack\", bins=30, kde=False, palette=\"coolwarm\")\n",
    "\n",
    "# Add labels and title\n",
    "plt.xlabel('Days Since Last Active')\n",
    "plt.ylabel('No. of Users')\n",
    "plt.title('Histogram of Days Since Last Active by Adoption Status')\n",
    "\n",
    "# Show the plot\n",
    "plt.show()"
   ]
  },
  {
   "cell_type": "markdown",
   "id": "877a2af7-270a-4669-a48a-91d037128a8c",
   "metadata": {},
   "source": [
    "Users who have been active in the last 25 days are far more likely to be adopted users"
   ]
  },
  {
   "cell_type": "code",
   "execution_count": 28,
   "id": "a4b772b8-f727-4cc0-8624-d43986d7ae1b",
   "metadata": {},
   "outputs": [
    {
     "data": {
      "text/html": [
       "<div>\n",
       "<style scoped>\n",
       "    .dataframe tbody tr th:only-of-type {\n",
       "        vertical-align: middle;\n",
       "    }\n",
       "\n",
       "    .dataframe tbody tr th {\n",
       "        vertical-align: top;\n",
       "    }\n",
       "\n",
       "    .dataframe thead th {\n",
       "        text-align: right;\n",
       "    }\n",
       "</style>\n",
       "<table border=\"1\" class=\"dataframe\">\n",
       "  <thead>\n",
       "    <tr style=\"text-align: right;\">\n",
       "      <th></th>\n",
       "      <th>user_id</th>\n",
       "      <th>adopted</th>\n",
       "      <th>creation_time</th>\n",
       "      <th>creation_source</th>\n",
       "      <th>last_session_creation_time</th>\n",
       "      <th>opted_in_to_mailing_list</th>\n",
       "      <th>enabled_for_marketing_drip</th>\n",
       "      <th>account_age_in_days</th>\n",
       "      <th>days_since_last_active</th>\n",
       "      <th>creation_source_GUEST_INVITE</th>\n",
       "      <th>creation_source_ORG_INVITE</th>\n",
       "      <th>creation_source_PERSONAL_PROJECTS</th>\n",
       "      <th>creation_source_SIGNUP</th>\n",
       "      <th>creation_source_SIGNUP_GOOGLE_AUTH</th>\n",
       "    </tr>\n",
       "  </thead>\n",
       "  <tbody>\n",
       "    <tr>\n",
       "      <th>0</th>\n",
       "      <td>1</td>\n",
       "      <td>False</td>\n",
       "      <td>2014-04-22 03:53:30</td>\n",
       "      <td>GUEST_INVITE</td>\n",
       "      <td>2014-04-22 03:53:30</td>\n",
       "      <td>1</td>\n",
       "      <td>0</td>\n",
       "      <td>45</td>\n",
       "      <td>45.0</td>\n",
       "      <td>True</td>\n",
       "      <td>False</td>\n",
       "      <td>False</td>\n",
       "      <td>False</td>\n",
       "      <td>False</td>\n",
       "    </tr>\n",
       "    <tr>\n",
       "      <th>1</th>\n",
       "      <td>2</td>\n",
       "      <td>True</td>\n",
       "      <td>2013-11-15 03:45:04</td>\n",
       "      <td>ORG_INVITE</td>\n",
       "      <td>2014-03-31 03:45:04</td>\n",
       "      <td>0</td>\n",
       "      <td>0</td>\n",
       "      <td>203</td>\n",
       "      <td>67.0</td>\n",
       "      <td>False</td>\n",
       "      <td>True</td>\n",
       "      <td>False</td>\n",
       "      <td>False</td>\n",
       "      <td>False</td>\n",
       "    </tr>\n",
       "    <tr>\n",
       "      <th>2</th>\n",
       "      <td>3</td>\n",
       "      <td>False</td>\n",
       "      <td>2013-03-19 23:14:52</td>\n",
       "      <td>ORG_INVITE</td>\n",
       "      <td>2013-03-19 23:14:52</td>\n",
       "      <td>0</td>\n",
       "      <td>0</td>\n",
       "      <td>443</td>\n",
       "      <td>443.0</td>\n",
       "      <td>False</td>\n",
       "      <td>True</td>\n",
       "      <td>False</td>\n",
       "      <td>False</td>\n",
       "      <td>False</td>\n",
       "    </tr>\n",
       "    <tr>\n",
       "      <th>3</th>\n",
       "      <td>4</td>\n",
       "      <td>False</td>\n",
       "      <td>2013-05-21 08:09:28</td>\n",
       "      <td>GUEST_INVITE</td>\n",
       "      <td>2013-05-22 08:09:28</td>\n",
       "      <td>0</td>\n",
       "      <td>0</td>\n",
       "      <td>381</td>\n",
       "      <td>380.0</td>\n",
       "      <td>True</td>\n",
       "      <td>False</td>\n",
       "      <td>False</td>\n",
       "      <td>False</td>\n",
       "      <td>False</td>\n",
       "    </tr>\n",
       "    <tr>\n",
       "      <th>4</th>\n",
       "      <td>5</td>\n",
       "      <td>False</td>\n",
       "      <td>2013-01-17 10:14:20</td>\n",
       "      <td>GUEST_INVITE</td>\n",
       "      <td>2013-01-22 10:14:20</td>\n",
       "      <td>0</td>\n",
       "      <td>0</td>\n",
       "      <td>505</td>\n",
       "      <td>500.0</td>\n",
       "      <td>True</td>\n",
       "      <td>False</td>\n",
       "      <td>False</td>\n",
       "      <td>False</td>\n",
       "      <td>False</td>\n",
       "    </tr>\n",
       "  </tbody>\n",
       "</table>\n",
       "</div>"
      ],
      "text/plain": [
       "   user_id  adopted       creation_time creation_source  \\\n",
       "0        1    False 2014-04-22 03:53:30    GUEST_INVITE   \n",
       "1        2     True 2013-11-15 03:45:04      ORG_INVITE   \n",
       "2        3    False 2013-03-19 23:14:52      ORG_INVITE   \n",
       "3        4    False 2013-05-21 08:09:28    GUEST_INVITE   \n",
       "4        5    False 2013-01-17 10:14:20    GUEST_INVITE   \n",
       "\n",
       "  last_session_creation_time  opted_in_to_mailing_list  \\\n",
       "0        2014-04-22 03:53:30                         1   \n",
       "1        2014-03-31 03:45:04                         0   \n",
       "2        2013-03-19 23:14:52                         0   \n",
       "3        2013-05-22 08:09:28                         0   \n",
       "4        2013-01-22 10:14:20                         0   \n",
       "\n",
       "   enabled_for_marketing_drip  account_age_in_days  days_since_last_active  \\\n",
       "0                           0                   45                    45.0   \n",
       "1                           0                  203                    67.0   \n",
       "2                           0                  443                   443.0   \n",
       "3                           0                  381                   380.0   \n",
       "4                           0                  505                   500.0   \n",
       "\n",
       "   creation_source_GUEST_INVITE  creation_source_ORG_INVITE  \\\n",
       "0                          True                       False   \n",
       "1                         False                        True   \n",
       "2                         False                        True   \n",
       "3                          True                       False   \n",
       "4                          True                       False   \n",
       "\n",
       "   creation_source_PERSONAL_PROJECTS  creation_source_SIGNUP  \\\n",
       "0                              False                   False   \n",
       "1                              False                   False   \n",
       "2                              False                   False   \n",
       "3                              False                   False   \n",
       "4                              False                   False   \n",
       "\n",
       "   creation_source_SIGNUP_GOOGLE_AUTH  \n",
       "0                               False  \n",
       "1                               False  \n",
       "2                               False  \n",
       "3                               False  \n",
       "4                               False  "
      ]
     },
     "execution_count": 28,
     "metadata": {},
     "output_type": "execute_result"
    }
   ],
   "source": [
    "# Create dummies for the 'creation_source' column\n",
    "creation_source_dummies = pd.get_dummies(merged_df['creation_source'], prefix='creation_source')\n",
    "\n",
    "# Merge the dummies back into the original dataframe\n",
    "merged_df = pd.concat([merged_df, creation_source_dummies], axis=1)\n",
    "\n",
    "# Show the updated dataframe\n",
    "merged_df.head()"
   ]
  },
  {
   "cell_type": "code",
   "execution_count": 29,
   "id": "cf66d7ec-b23b-4bb4-a91b-ece81e822a5d",
   "metadata": {},
   "outputs": [],
   "source": [
    "# For modeling we'll drop unneeded features\n",
    "merged_df = merged_df.drop(columns=['user_id', 'creation_time', 'last_session_creation_time','creation_source'])"
   ]
  },
  {
   "cell_type": "code",
   "execution_count": 30,
   "id": "e43376e6-787c-48cd-a587-57c4437060e9",
   "metadata": {},
   "outputs": [],
   "source": [
    "y = merged_df['adopted']\n",
    "X = merged_df.drop('adopted', axis=1)\n",
    "Xtrain, Xtest, ytrain, ytest = train_test_split(X, y, stratify=y, random_state=9)"
   ]
  },
  {
   "cell_type": "code",
   "execution_count": 31,
   "id": "0d3043d1-646a-49bb-a9c3-d6e75d407305",
   "metadata": {},
   "outputs": [
    {
     "name": "stdout",
     "output_type": "stream",
     "text": [
      "Best parameters: {'n_estimators': 200}\n",
      "Best average precision: 0.9552670279256382\n"
     ]
    }
   ],
   "source": [
    "# Model using Random Forest Classifier\n",
    "rf = RandomForestClassifier(random_state=9, class_weight='balanced')\n",
    "\n",
    "params = {'n_estimators': [1, 10, 25, 50, 100, 200, 300]}\n",
    "model = GridSearchCV(rf, params)\n",
    "model.fit(Xtrain, ytrain)\n",
    "print(f'Best parameters: {model.best_params_}')\n",
    "print(f'Best average precision: {model.best_score_}')"
   ]
  },
  {
   "cell_type": "code",
   "execution_count": 32,
   "id": "39ed5810-61e8-4159-8cc0-14aee245d1b6",
   "metadata": {},
   "outputs": [
    {
     "name": "stdout",
     "output_type": "stream",
     "text": [
      "Accuracy of test set: 0.9605621033544878\n",
      "              precision    recall  f1-score   support\n",
      "\n",
      "       False       0.97      0.99      0.98      1792\n",
      "        True       0.93      0.85      0.89       414\n",
      "\n",
      "    accuracy                           0.96      2206\n",
      "   macro avg       0.95      0.92      0.93      2206\n",
      "weighted avg       0.96      0.96      0.96      2206\n",
      "\n"
     ]
    }
   ],
   "source": [
    "# Model Evaluation\n",
    "model = RandomForestClassifier(random_state=9, class_weight='balanced', n_estimators=200)\n",
    "model.fit(Xtrain, ytrain)\n",
    "ypred = model.predict(Xtest)\n",
    "print(f'Accuracy of test set: {accuracy_score(ytest, ypred)}')\n",
    "print(classification_report(ytest, ypred))"
   ]
  },
  {
   "cell_type": "code",
   "execution_count": 33,
   "id": "cf49edab-6d7d-4387-928a-9bc9261eff2e",
   "metadata": {},
   "outputs": [
    {
     "data": {
      "text/plain": [
       "days_since_last_active                0.685529\n",
       "account_age_in_days                   0.288184\n",
       "opted_in_to_mailing_list              0.005390\n",
       "enabled_for_marketing_drip            0.004767\n",
       "creation_source_GUEST_INVITE          0.004253\n",
       "creation_source_SIGNUP                0.003969\n",
       "creation_source_ORG_INVITE            0.002940\n",
       "creation_source_SIGNUP_GOOGLE_AUTH    0.002570\n",
       "creation_source_PERSONAL_PROJECTS     0.002397\n",
       "dtype: float64"
      ]
     },
     "execution_count": 33,
     "metadata": {},
     "output_type": "execute_result"
    }
   ],
   "source": [
    "# Feature Importance\n",
    "fi = pd.Series(model.feature_importances_, index=X.columns)\n",
    "fi = fi.sort_values(ascending=False)\n",
    "fi"
   ]
  },
  {
   "cell_type": "markdown",
   "id": "c7a5696a-e7bc-4777-9487-04d9bc643749",
   "metadata": {},
   "source": [
    "Days since last active is by far the most important feature at 68%. I would send push notifications to users when they go inactive for an extended number of days. The threshold viewed during EDA seemed to be 25 days or less would make a user far more likely to be an adopted user. Account age in days is the second most important at 28%, but there is nothing that can be done there to speed along the passage of time. All of the other features only account for 2.7% importance with the most important of thoese being opted in for mailing list so I would incentivize users to opt in."
   ]
  }
 ],
 "metadata": {
  "kernelspec": {
   "display_name": "Python 3 (ipykernel)",
   "language": "python",
   "name": "python3"
  },
  "language_info": {
   "codemirror_mode": {
    "name": "ipython",
    "version": 3
   },
   "file_extension": ".py",
   "mimetype": "text/x-python",
   "name": "python",
   "nbconvert_exporter": "python",
   "pygments_lexer": "ipython3",
   "version": "3.11.8"
  }
 },
 "nbformat": 4,
 "nbformat_minor": 5
}
